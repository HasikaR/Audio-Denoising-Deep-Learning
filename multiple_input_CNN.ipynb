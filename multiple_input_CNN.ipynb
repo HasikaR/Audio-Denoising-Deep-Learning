{
  "nbformat": 4,
  "nbformat_minor": 0,
  "metadata": {
    "colab": {
      "name": "multiple_input_CNN.ipynb",
      "provenance": [],
      "collapsed_sections": [],
      "include_colab_link": true
    },
    "kernelspec": {
      "name": "python3",
      "display_name": "Python 3"
    },
    "language_info": {
      "name": "python"
    }
  },
  "cells": [
    {
      "cell_type": "markdown",
      "metadata": {
        "id": "view-in-github",
        "colab_type": "text"
      },
      "source": [
        "<a href=\"https://colab.research.google.com/github/HasikaR/Audio-Denoising-Deep-Learning/blob/main/multiple_input_CNN.ipynb\" target=\"_parent\"><img src=\"https://colab.research.google.com/assets/colab-badge.svg\" alt=\"Open In Colab\"/></a>"
      ]
    },
    {
      "cell_type": "code",
      "metadata": {
        "id": "qx1QyFWS_jU-",
        "colab": {
          "base_uri": "https://localhost:8080/"
        },
        "outputId": "bd4584b8-d0e4-4af5-97c5-0cff0b76dc5b"
      },
      "source": [
        "%tensorflow_version 1.x"
      ],
      "execution_count": null,
      "outputs": [
        {
          "output_type": "stream",
          "text": [
            "TensorFlow 1.x selected.\n"
          ],
          "name": "stdout"
        }
      ]
    },
    {
      "cell_type": "code",
      "metadata": {
        "id": "hdHFHoH55ImO"
      },
      "source": [
        "import librosa\n",
        "import numpy as np\n",
        "import matplotlib.pyplot as plt\n",
        "import tensorflow as tf\n",
        "import random\n",
        "import copy"
      ],
      "execution_count": null,
      "outputs": []
    },
    {
      "cell_type": "code",
      "metadata": {
        "id": "1qmFH5zPoz-V"
      },
      "source": [
        "import glob\n",
        "import zipfile"
      ],
      "execution_count": null,
      "outputs": []
    },
    {
      "cell_type": "code",
      "metadata": {
        "id": "5CJuEY2GEOGq"
      },
      "source": [
        "gpu_options = tf.compat.v1.GPUOptions(allow_growth = True)\n",
        "config=tf.compat.v1.ConfigProto(gpu_options=gpu_options)\n",
        "config.gpu_options.per_process_gpu_memory_fraction = 0.34"
      ],
      "execution_count": null,
      "outputs": []
    },
    {
      "cell_type": "code",
      "metadata": {
        "colab": {
          "base_uri": "https://localhost:8080/"
        },
        "id": "svj9wfaw6XQa",
        "outputId": "ce02a880-c864-4219-f4c9-7f1cf8d58f6a"
      },
      "source": [
        "from google.colab import drive\n",
        "drive.mount('/content/drive')"
      ],
      "execution_count": null,
      "outputs": [
        {
          "output_type": "stream",
          "text": [
            "Mounted at /content/drive\n"
          ],
          "name": "stdout"
        }
      ]
    },
    {
      "cell_type": "code",
      "metadata": {
        "id": "iEEXpiTyn0bv"
      },
      "source": [
        "max_length = 1126"
      ],
      "execution_count": null,
      "outputs": []
    },
    {
      "cell_type": "code",
      "metadata": {
        "id": "6Buu49d4OOaq"
      },
      "source": [
        "with zipfile.ZipFile('/content/drive/MyDrive/s6.zip', 'r') as zip_ref:\n",
        "    zip_ref.extractall('/tmp')"
      ],
      "execution_count": null,
      "outputs": []
    },
    {
      "cell_type": "code",
      "metadata": {
        "id": "VnDQv00aOSkw"
      },
      "source": [
        "with zipfile.ZipFile('/content/drive/MyDrive/c6.zip', 'r') as zip_ref:\n",
        "    zip_ref.extractall('/tmp2')"
      ],
      "execution_count": null,
      "outputs": []
    },
    {
      "cell_type": "code",
      "metadata": {
        "id": "SpundZbun3Bj"
      },
      "source": [
        "def getData( input_data_path):\n",
        " \n",
        "    speech_list = []\n",
        "    mag_speech_list = []\n",
        "    for file in sorted(glob.iglob(input_data_path)):\n",
        "      s,sr = librosa.load(file , sr=None)\n",
        "      S = librosa.stft(s, n_fft=1024, hop_length=512)\n",
        "      stft_len = S.shape[1]\n",
        "      S = np.pad(S, ((0,0),(0, max_length-stft_len)), 'constant')\n",
        "      speech_list.append(S)\n",
        " \n",
        "      mag_S = np.abs(S)\n",
        "      mag_speech_list.append(mag_S)\n",
        "    \n",
        "    return speech_list , mag_speech_list"
      ],
      "execution_count": null,
      "outputs": []
    },
    {
      "cell_type": "code",
      "metadata": {
        "id": "SvfqOHirn5gA"
      },
      "source": [
        "clean_speech_data_path = '/tmp2/c6/*.wav'\n",
        "#/content/drive/MyDrive/inputs_clean\n",
        "clean_speech_list, mag_clean_speech_list = getData( clean_speech_data_path)"
      ],
      "execution_count": null,
      "outputs": []
    },
    {
      "cell_type": "code",
      "metadata": {
        "id": "lHTDN9sen7xl"
      },
      "source": [
        "mag_clean_speech_list=np.array(mag_clean_speech_list)"
      ],
      "execution_count": null,
      "outputs": []
    },
    {
      "cell_type": "code",
      "metadata": {
        "colab": {
          "base_uri": "https://localhost:8080/"
        },
        "id": "9Xnd3cvtn-LI",
        "outputId": "d713b2bb-494d-4429-aaac-fa88c80be988"
      },
      "source": [
        "print(mag_clean_speech_list.shape)"
      ],
      "execution_count": null,
      "outputs": [
        {
          "output_type": "stream",
          "text": [
            "(36, 513, 1126)\n"
          ],
          "name": "stdout"
        }
      ]
    },
    {
      "cell_type": "code",
      "metadata": {
        "id": "EsOx8jiJU6-H"
      },
      "source": [
        "def getData1( input_data_path):\n",
        " \n",
        "    speech_list = []\n",
        "    mag_speech_list = []\n",
        "    for file in sorted(glob.iglob(input_data_path)):\n",
        "      s,sr = librosa.load(file , sr=None)\n",
        "      X = librosa.stft(s, n_fft=1024, hop_length=512)\n",
        "      stft_len = X.shape[1]\n",
        "      X = np.pad(X, ((0,0),(0, max_length-stft_len)), 'constant')\n",
        "      speech_list.append(X)\n",
        " \n",
        "      mag_X = np.abs(X)\n",
        "      mag_speech_list.append(mag_X)\n",
        "    \n",
        "    return speech_list , mag_speech_list"
      ],
      "execution_count": null,
      "outputs": []
    },
    {
      "cell_type": "code",
      "metadata": {
        "id": "REfgdHMooAwB"
      },
      "source": [
        "mixed_speech_data_path = '/tmp/s6/*.wav'\n",
        "#/content/drive/MyDrive/inputs\n",
        "mixed_speech_list, mag_mixed_speech_list = getData1(mixed_speech_data_path)"
      ],
      "execution_count": null,
      "outputs": []
    },
    {
      "cell_type": "code",
      "metadata": {
        "id": "ZC-l7OIIoDH0"
      },
      "source": [
        "mag_mixed_speech_list=np.array(mag_mixed_speech_list)"
      ],
      "execution_count": null,
      "outputs": []
    },
    {
      "cell_type": "code",
      "metadata": {
        "colab": {
          "base_uri": "https://localhost:8080/"
        },
        "id": "QYQkZZHNTMCF",
        "outputId": "78c66996-e2e6-416c-9b5c-1fed438d5043"
      },
      "source": [
        "print(mag_mixed_speech_list.shape)"
      ],
      "execution_count": null,
      "outputs": [
        {
          "output_type": "stream",
          "text": [
            "(36, 513, 1126)\n"
          ],
          "name": "stdout"
        }
      ]
    },
    {
      "cell_type": "code",
      "metadata": {
        "id": "uwsFX5n0oFIf"
      },
      "source": [
        "mag_mixed_speech_list=mag_mixed_speech_list.reshape(513,36*1126)"
      ],
      "execution_count": null,
      "outputs": []
    },
    {
      "cell_type": "code",
      "metadata": {
        "id": "SyweUlpwoHKL"
      },
      "source": [
        "mag_clean_speech_list=mag_clean_speech_list.reshape(513,36*1126)"
      ],
      "execution_count": null,
      "outputs": []
    },
    {
      "cell_type": "code",
      "metadata": {
        "id": "z3bnDvfhoI-f"
      },
      "source": [
        "x_test, sr = librosa.load('/content/drive/MyDrive/dnn/ss441_cs15_kd21.wav', sr=None)\n",
        "X_test = librosa.stft(x_test, n_fft=1024, hop_length=512)\n",
        "\n",
        "x_test2, sr = librosa.load('/content/drive/MyDrive/dnn/ss670_cs23_kd10.wav', sr=None)\n",
        "X_test2 = librosa.stft(x_test2, n_fft=1024, hop_length=512)"
      ],
      "execution_count": null,
      "outputs": []
    },
    {
      "cell_type": "code",
      "metadata": {
        "id": "mnPmSv7p_Zsv"
      },
      "source": [
        "mag_S = mag_clean_speech_list\n",
        "mag_X = mag_mixed_speech_list\n",
        "mag_X_test = np.abs(X_test)\n",
        "mag_X_test2 = np.abs(X_test2)\n",
        "\n",
        "#Defining model specifications\n",
        "learning_rate = 0.0002\n",
        "num_epochs = 2000\n",
        "batch_size = 64\n",
        "window_size = 20"
      ],
      "execution_count": null,
      "outputs": []
    },
    {
      "cell_type": "code",
      "metadata": {
        "id": "uxlt0uU5_emX"
      },
      "source": [
        "input = tf.compat.v1.placeholder(tf.float32, [None, 513])\n",
        "labels = tf.compat.v1.placeholder(tf.float32, [None, 513])"
      ],
      "execution_count": null,
      "outputs": []
    },
    {
      "cell_type": "code",
      "metadata": {
        "id": "x3FTegxP_9E8"
      },
      "source": [
        "def getModel(x):\n",
        "  # Input Layer\n",
        "  input_layer = tf.reshape(x, [-1, 20, 513, 1])\n",
        "\n",
        "  # Convolutional Layer #1\n",
        "  conv1 = tf.layers.conv2d(\n",
        "      inputs=input_layer,\n",
        "      filters=16,\n",
        "      kernel_size=[4,4],\n",
        "      padding=\"same\",\n",
        "      activation=tf.nn.relu)\n",
        "\n",
        "  # Pooling Layer #1\n",
        "  pool1 = tf.layers.max_pooling2d(inputs=conv1, pool_size=[2,2], strides=[2,2])\n",
        "\n",
        "  # Convolutional Layer #2 and Pooling Layer #2\n",
        "  conv2 = tf.layers.conv2d(\n",
        "      inputs=pool1,\n",
        "      filters=32,\n",
        "      kernel_size=[2,2],\n",
        "      padding=\"same\",\n",
        "      activation=tf.nn.relu)\n",
        "  \n",
        "  pool2 = tf.layers.max_pooling2d(inputs=conv2, pool_size=[2,2], strides=[2,2])\n",
        "\n",
        "  # Dense Layer\n",
        "  pool2_flat = tf.layers.flatten(pool2)\n",
        "  \n",
        "  logits = tf.layers.dense(inputs=pool2_flat, units=513, activation=tf.nn.relu)\n",
        "  \n",
        "  return logits"
      ],
      "execution_count": null,
      "outputs": []
    },
    {
      "cell_type": "code",
      "metadata": {
        "id": "bTSdJnBuAH67"
      },
      "source": [
        "def transform_data(x , size , window_size):\n",
        "  temp = x[0 : 0 + window_size,:]\n",
        "  for i in range(1 , size - window_size + 1):\n",
        "      temp_mini = x[i : i + window_size,:]\n",
        "      temp = np.vstack((temp , temp_mini))\n",
        "      \n",
        "  return temp"
      ],
      "execution_count": null,
      "outputs": []
    },
    {
      "cell_type": "code",
      "metadata": {
        "id": "rlhj63T2NzJq"
      },
      "source": [
        "#DO NOT RUN THE NEXT 4 LINES AFTER EXECUTING FOR THE 1 ST TIME"
      ],
      "execution_count": null,
      "outputs": []
    },
    {
      "cell_type": "code",
      "metadata": {
        "id": "wktoOKLcAK5j"
      },
      "source": [
        "transformed_x = transform_data(mag_X.T , np.shape(mag_X.T)[0] , window_size)"
      ],
      "execution_count": null,
      "outputs": []
    },
    {
      "cell_type": "code",
      "metadata": {
        "colab": {
          "base_uri": "https://localhost:8080/"
        },
        "id": "fKodMZ45H9kg",
        "outputId": "3bf99fe1-5fad-44c8-e6fd-289b75f84f6f"
      },
      "source": [
        "print(type(transformed_x))"
      ],
      "execution_count": null,
      "outputs": [
        {
          "output_type": "stream",
          "text": [
            "<class 'numpy.ndarray'>\n"
          ],
          "name": "stdout"
        }
      ]
    },
    {
      "cell_type": "code",
      "metadata": {
        "colab": {
          "base_uri": "https://localhost:8080/"
        },
        "id": "cp7oeHPSNJjp",
        "outputId": "906747fa-d68a-44c3-93d2-1b78f478f805"
      },
      "source": [
        "print(transformed_x.shape)"
      ],
      "execution_count": null,
      "outputs": [
        {
          "output_type": "stream",
          "text": [
            "(810340, 513)\n"
          ],
          "name": "stdout"
        }
      ]
    },
    {
      "cell_type": "code",
      "metadata": {
        "id": "zIccLpNSJyHm"
      },
      "source": [
        "np.savetxt(\"/content/drive/MyDrive/transform.txt\",transformed_x , delimiter=';', fmt='%s')"
      ],
      "execution_count": null,
      "outputs": []
    },
    {
      "cell_type": "code",
      "metadata": {
        "id": "D-dwYiF_u9Ht"
      },
      "source": [
        "transformed_x=np.loadtxt(\"/content/drive/MyDrive/transform.txt\",delimiter=';')"
      ],
      "execution_count": null,
      "outputs": []
    },
    {
      "cell_type": "markdown",
      "metadata": {
        "id": "5VwRLlw9vEQf"
      },
      "source": [
        "Execute from this line"
      ]
    },
    {
      "cell_type": "markdown",
      "metadata": {
        "id": "Jc4unqLdKKbv"
      },
      "source": [
        ""
      ]
    },
    {
      "cell_type": "code",
      "metadata": {
        "id": "cLyvGXC-ASi4"
      },
      "source": [
        "transformed_x1 = copy.deepcopy(transformed_x)\n"
      ],
      "execution_count": null,
      "outputs": []
    },
    {
      "cell_type": "code",
      "metadata": {
        "id": "FBbZmP9kAVeK"
      },
      "source": [
        "transformed_x = np.reshape(transformed_x , (40517, 20 , 513))"
      ],
      "execution_count": null,
      "outputs": []
    },
    {
      "cell_type": "code",
      "metadata": {
        "id": "TUeipmwrAYPq"
      },
      "source": [
        "transformed_y = (mag_S.T)[window_size - 1 : , :]"
      ],
      "execution_count": null,
      "outputs": []
    },
    {
      "cell_type": "code",
      "metadata": {
        "colab": {
          "base_uri": "https://localhost:8080/"
        },
        "id": "1hxjfSA3Add0",
        "outputId": "0b915e83-6d2e-4d5f-dc8b-5d36cfc873a8"
      },
      "source": [
        "output = getModel(input)\n",
        "#Defining the loss function along with its optimizer\n",
        "loss = tf.reduce_mean(tf.square(output - labels))\n",
        "train_step = tf.train.AdamOptimizer(learning_rate).minimize(loss)\n",
        "\n",
        "sess = tf.InteractiveSession()\n",
        "sess.run(tf.global_variables_initializer())\n",
        "\n",
        "count = 0\n",
        "flag = True\n",
        "c=[]\n",
        "l=[]\n",
        "while flag:\n",
        "    size = 0\n",
        "    #Mini batching with the given batch size\n",
        "    for i in range(0 , 40517, batch_size):\n",
        "        size += batch_size\n",
        "        if size <= 40517:\n",
        "            batch_x = transformed_x[i : size, :]\n",
        "            batch_y = transformed_y[i : size, :]\n",
        "        else:\n",
        "            batch_x = transformed_x[i : 40517, :]\n",
        "            batch_y = transformed_y[i : 40517, :]\n",
        "        \n",
        "        \n",
        "        batch_x = batch_x.reshape((np.shape(batch_x)[0] * np.shape(batch_x)[1] , np.shape(batch_x)[2]))\n",
        "        #print(batch_y.shape)\n",
        "        feed_dict = {input: batch_x, labels: batch_y}\n",
        "        train_step.run(feed_dict=feed_dict)\n",
        "\n",
        "    if count%2 == 0:\n",
        "        loss_calc = loss.eval(feed_dict=feed_dict)\n",
        "        print(\"Epoch %d, loss %g\"%(count, loss_calc))\n",
        "        c.append(count)\n",
        "        l.append(loss_calc)\n",
        "    \n",
        "    #Once all the epochs are completed, training is stopped\n",
        "    if count >= 30:\n",
        "        flag = False  \n",
        "        \n",
        "    count+=1"
      ],
      "execution_count": null,
      "outputs": [
        {
          "output_type": "stream",
          "text": [
            "WARNING:tensorflow:From <ipython-input-21-313388ed2fdd>:11: conv2d (from tensorflow.python.layers.convolutional) is deprecated and will be removed in a future version.\n",
            "Instructions for updating:\n",
            "Use `tf.keras.layers.Conv2D` instead.\n",
            "WARNING:tensorflow:From /tensorflow-1.15.2/python3.7/tensorflow_core/python/layers/convolutional.py:424: Layer.apply (from tensorflow.python.keras.engine.base_layer) is deprecated and will be removed in a future version.\n",
            "Instructions for updating:\n",
            "Please use `layer.__call__` method instead.\n",
            "WARNING:tensorflow:From <ipython-input-21-313388ed2fdd>:14: max_pooling2d (from tensorflow.python.layers.pooling) is deprecated and will be removed in a future version.\n",
            "Instructions for updating:\n",
            "Use keras.layers.MaxPooling2D instead.\n",
            "WARNING:tensorflow:From <ipython-input-21-313388ed2fdd>:27: flatten (from tensorflow.python.layers.core) is deprecated and will be removed in a future version.\n",
            "Instructions for updating:\n",
            "Use keras.layers.flatten instead.\n",
            "WARNING:tensorflow:From <ipython-input-21-313388ed2fdd>:29: dense (from tensorflow.python.layers.core) is deprecated and will be removed in a future version.\n",
            "Instructions for updating:\n",
            "Use keras.layers.Dense instead.\n",
            "Epoch 0, loss 1.18859e-07\n",
            "Epoch 2, loss 0\n",
            "Epoch 4, loss 0.0240728\n",
            "Epoch 6, loss 0.0209792\n",
            "Epoch 8, loss 0.0135596\n",
            "Epoch 10, loss 0.00834461\n",
            "Epoch 12, loss 0.00453327\n",
            "Epoch 14, loss 0.00199938\n",
            "Epoch 16, loss 0.00103264\n",
            "Epoch 18, loss 0.000825532\n",
            "Epoch 20, loss 0.000626801\n",
            "Epoch 22, loss 0.000527282\n",
            "Epoch 24, loss 0.000351725\n",
            "Epoch 26, loss 0.000401519\n",
            "Epoch 28, loss 0.000557517\n",
            "Epoch 30, loss 8.46201e-05\n"
          ],
          "name": "stdout"
        }
      ]
    },
    {
      "cell_type": "code",
      "metadata": {
        "colab": {
          "base_uri": "https://localhost:8080/",
          "height": 312
        },
        "id": "EhyjSGP3FXgp",
        "outputId": "14336c30-4bcf-41b8-c2e5-29d76d63ae1f"
      },
      "source": [
        "import matplotlib.pyplot as plt\n",
        "\n",
        "plt.title(\"Result Analysis-Loss calculation for Audio Denoising\")\n",
        "      \n",
        "# label of x-axis\n",
        "plt.xlabel(\"Epoch\")\n",
        "\n",
        "plt.ylabel(\"Loss\")\n",
        "\n",
        "  \n",
        "# actual ploting\n",
        "plt.plot(c, l)\n",
        "  \n",
        "# shows the plot \n",
        "# in new wind"
      ],
      "execution_count": null,
      "outputs": [
        {
          "output_type": "execute_result",
          "data": {
            "text/plain": [
              "[<matplotlib.lines.Line2D at 0x7f697521ebd0>]"
            ]
          },
          "metadata": {
            "tags": []
          },
          "execution_count": 44
        },
        {
          "output_type": "display_data",
          "data": {
            "image/png": "[encoded data removed]",
            "text/plain": [
              "<Figure size 432x288 with 1 Axes>"
            ]
          },
          "metadata": {
            "tags": [],
            "needs_background": "light"
          }
        }
      ]
    },
    {
      "cell_type": "code",
      "metadata": {
        "colab": {
          "base_uri": "https://localhost:8080/"
        },
        "id": "fJZhpQuO7Pq0",
        "outputId": "e5c032ed-28ce-4c5f-cb55-2f861d74fe5b"
      },
      "source": [
        "print(type(output))"
      ],
      "execution_count": null,
      "outputs": [
        {
          "output_type": "stream",
          "text": [
            "<class 'tensorflow.python.framework.ops.Tensor'>\n"
          ],
          "name": "stdout"
        }
      ]
    },
    {
      "cell_type": "code",
      "metadata": {
        "colab": {
          "base_uri": "https://localhost:8080/"
        },
        "id": "sUr_Maz5ABI2",
        "outputId": "449759aa-f337-4bc8-a08f-1e8857be3b75"
      },
      "source": [
        "print(output.shape)"
      ],
      "execution_count": null,
      "outputs": [
        {
          "output_type": "stream",
          "text": [
            "(?, 513)\n"
          ],
          "name": "stdout"
        }
      ]
    },
    {
      "cell_type": "code",
      "metadata": {
        "id": "8esNH0aCBHJE"
      },
      "source": [
        "def feedforward(input_data, dnn_output):\n",
        "    output = dnn_output.eval(feed_dict = {input : input_data})\n",
        "    \n",
        "    return output\n",
        "\n",
        "#Recovering the complex values of the file from the output of the model\n",
        "def recover_sound(X , mag_X , mag_output):\n",
        "  temp = X / mag_X\n",
        "  s_hat = temp * mag_output\n",
        "  \n",
        "  return s_hat\n",
        "\n",
        "#Recovering the lost frames\n",
        "def recover_data(x , size , value):\n",
        "  temp = np.full(size , value)\n",
        "  output = np.vstack((temp , x))\n",
        "  \n",
        "  return output"
      ],
      "execution_count": null,
      "outputs": []
    },
    {
      "cell_type": "code",
      "metadata": {
        "id": "3JEKOBKnBNok"
      },
      "source": [
        "transformed_x_test = transform_data(mag_X_test.T , np.shape(mag_X_test.T)[0] , window_size)\n",
        "transformed_x_test2 = transform_data(mag_X_test2.T , np.shape(mag_X_test2.T)[0] , window_size)"
      ],
      "execution_count": null,
      "outputs": []
    },
    {
      "cell_type": "code",
      "metadata": {
        "id": "XLX62OaSBQbn"
      },
      "source": [
        "s_hat_test1 = feedforward(transformed_x_test , output)\n",
        "s_hat_test2 = feedforward(transformed_x_test2 , output)\n",
        "\n",
        "#Recovering the first 19 frames that were lost\n",
        "recovered_x_test1 = recover_data(s_hat_test1 , (window_size - 1 , np.shape(s_hat_test1)[1]) , 1e-15)\n",
        "recovered_x_test2 = recover_data(s_hat_test2 , (window_size - 1 , np.shape(s_hat_test2)[1]) , 1e-15)\n",
        "\n",
        "#Recovering the complex values of both the test files\n",
        "s_hat1 = recover_sound(X_test , mag_X_test , recovered_x_test1.T)\n",
        "s_hat2 = recover_sound(X_test2 , mag_X_test2 , recovered_x_test2.T)"
      ],
      "execution_count": null,
      "outputs": []
    },
    {
      "cell_type": "code",
      "metadata": {
        "id": "29S2b9l0BWkX"
      },
      "source": [
        "import soundfile as sf\n",
        "recon_sound = librosa.istft(s_hat1 , hop_length=512 , win_length=1024)\n",
        "sf.write('/content/drive/MyDrive/cnn_output/cnn_01.wav', recon_sound,sr)\n",
        "recon_sound2 = librosa.istft(s_hat2 , hop_length=512 , win_length=1024)\n",
        "sf.write('/content/drive/MyDrive/cnn_output/cnn_02.wav', recon_sound2,sr)"
      ],
      "execution_count": null,
      "outputs": []
    },
    {
      "cell_type": "code",
      "metadata": {
        "id": "wiw3JIKTBbmL",
        "colab": {
          "base_uri": "https://localhost:8080/"
        },
        "outputId": "65361ba3-97b5-44d8-92da-b013c888bc49"
      },
      "source": [
        "s_hat_test3 = feedforward(transformed_x1 , output)\n",
        "recovered_x1 = recover_data(s_hat_test3 , (window_size - 1 , np.shape(s_hat_test3)[1]) , 1e-15)\n",
        "s_hat3 = recover_sound(X, mag_X , recovered_x1.T)\n",
        "recon_sound3 = librosa.istft(s_hat3 , hop_length=512 , win_length=1024)\n",
        "size_recon_sound3 = np.shape(recon_sound3)[0]"
      ],
      "execution_count": null,
      "outputs": [
        {
          "output_type": "stream",
          "text": [
            "/usr/local/lib/python3.7/dist-packages/ipykernel_launcher.py:8: RuntimeWarning: invalid value encountered in true_divide\n",
            "  \n"
          ],
          "name": "stderr"
        }
      ]
    }
  ]
}